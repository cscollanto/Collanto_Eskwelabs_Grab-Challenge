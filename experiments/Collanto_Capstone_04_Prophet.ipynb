{
 "cells": [
  {
   "cell_type": "markdown",
   "metadata": {},
   "source": [
    "# Capstone Project: Grab Challenge(Traffic Management)"
   ]
  },
  {
   "cell_type": "code",
   "execution_count": 1,
   "metadata": {},
   "outputs": [],
   "source": [
    "import pandas as pd\n",
    "from datetime import datetime,timedelta\n",
    "\n",
    "import geohash as gh\n",
    "from math import sin, cos, radians, atan2,sqrt\n",
    "import statsmodels.api as sm\n",
    "import numpy as np\n",
    "\n",
    "#Visualization\n",
    "import matplotlib.pyplot as plt\n",
    "from matplotlib import cm\n",
    "from matplotlib.colors import ListedColormap, LinearSegmentedColormap\n",
    "import seaborn as sns\n",
    "from mpl_toolkits.basemap import Basemap\n",
    "\n",
    "import progressbar\n",
    "from time import sleep"
   ]
  },
  {
   "cell_type": "markdown",
   "metadata": {},
   "source": [
    "# 8. Using Facebook Prophet"
   ]
  },
  {
   "cell_type": "code",
   "execution_count": 9,
   "metadata": {},
   "outputs": [
    {
     "name": "stdout",
     "output_type": "stream",
     "text": [
      "Requirement already satisfied: Cython in c:\\users\\acer\\anaconda\\lib\\site-packages (0.29.6)\n"
     ]
    }
   ],
   "source": [
    "!pip install Cython"
   ]
  },
  {
   "cell_type": "code",
   "execution_count": 10,
   "metadata": {},
   "outputs": [
    {
     "name": "stdout",
     "output_type": "stream",
     "text": [
      "Requirement already satisfied: pystan in c:\\users\\acer\\anaconda\\lib\\site-packages (2.19.0.0)\n",
      "Requirement already satisfied: Cython!=0.25.1,>=0.22 in c:\\users\\acer\\anaconda\\lib\\site-packages (from pystan) (0.29.6)\n",
      "Requirement already satisfied: numpy>=1.7 in c:\\users\\acer\\anaconda\\lib\\site-packages (from pystan) (1.16.2)\n"
     ]
    }
   ],
   "source": [
    "!pip install pystan"
   ]
  },
  {
   "cell_type": "code",
   "execution_count": null,
   "metadata": {},
   "outputs": [],
   "source": [
    "import pystan\n",
    "model_code = 'parameters {real y;} model {y ~ normal(0,1);}'\n",
    "model = pystan.StanModel(model_code=model_code)  # this will take a minute\n",
    "y = model.sampling(n_jobs=1).extract()['y']\n",
    "y.mean()  # should be close to 0"
   ]
  },
  {
   "cell_type": "code",
   "execution_count": null,
   "metadata": {},
   "outputs": [],
   "source": [
    "#!pip install --upgrade setuptools"
   ]
  },
  {
   "cell_type": "code",
   "execution_count": 6,
   "metadata": {},
   "outputs": [
    {
     "name": "stdout",
     "output_type": "stream",
     "text": [
      "Collecting fbprophet\n",
      "  Using cached https://files.pythonhosted.org/packages/33/fb/ad98d46773929079657706e6b2b6e366ba6c282bc2397d8f9b0ea8e5614c/fbprophet-0.5.tar.gz\n",
      "Requirement already satisfied: Cython>=0.22 in c:\\users\\acer\\anaconda\\lib\\site-packages (from fbprophet) (0.29.6)\n",
      "Requirement already satisfied: pystan>=2.14 in c:\\users\\acer\\anaconda\\lib\\site-packages (from fbprophet) (2.19.0.0)\n",
      "Requirement already satisfied: numpy>=1.10.0 in c:\\users\\acer\\anaconda\\lib\\site-packages (from fbprophet) (1.16.2)\n",
      "Requirement already satisfied: pandas>=0.23.4 in c:\\users\\acer\\anaconda\\lib\\site-packages (from fbprophet) (0.24.2)\n",
      "Requirement already satisfied: matplotlib>=2.0.0 in c:\\users\\acer\\anaconda\\lib\\site-packages (from fbprophet) (3.0.3)\n",
      "Requirement already satisfied: lunardate>=0.1.5 in c:\\users\\acer\\anaconda\\lib\\site-packages (from fbprophet) (0.2.0)\n",
      "Collecting convertdate>=2.1.2 (from fbprophet)\n",
      "  Using cached https://files.pythonhosted.org/packages/74/83/d0fa07078f4d4ae473a89d7d521aafc66d82641ea0af0ef04a47052e8f17/convertdate-2.1.3-py2.py3-none-any.whl\n",
      "Collecting holidays>=0.9.5 (from fbprophet)\n",
      "Collecting setuptools-git>=1.2 (from fbprophet)\n",
      "  Using cached https://files.pythonhosted.org/packages/05/97/dd99fa9c0d9627a7b3c103a00f1566d8193aca8d473884ed258cca82b06f/setuptools_git-1.2-py2.py3-none-any.whl\n",
      "Requirement already satisfied: python-dateutil>=2.5.0 in c:\\users\\acer\\anaconda\\lib\\site-packages (from pandas>=0.23.4->fbprophet) (2.8.0)\n",
      "Requirement already satisfied: pytz>=2011k in c:\\users\\acer\\anaconda\\lib\\site-packages (from pandas>=0.23.4->fbprophet) (2018.9)\n",
      "Requirement already satisfied: cycler>=0.10 in c:\\users\\acer\\anaconda\\lib\\site-packages (from matplotlib>=2.0.0->fbprophet) (0.10.0)\n",
      "Requirement already satisfied: kiwisolver>=1.0.1 in c:\\users\\acer\\anaconda\\lib\\site-packages (from matplotlib>=2.0.0->fbprophet) (1.0.1)\n",
      "Requirement already satisfied: pyparsing!=2.0.4,!=2.1.2,!=2.1.6,>=2.0.1 in c:\\users\\acer\\anaconda\\lib\\site-packages (from matplotlib>=2.0.0->fbprophet) (2.3.1)\n",
      "Collecting ephem<3.8,>=3.7.5.3 (from convertdate>=2.1.2->fbprophet)\n",
      "  Using cached https://files.pythonhosted.org/packages/c3/2c/9e1a815add6c222a0d4bf7c644e095471a934a39bc90c201f9550a8f7f14/ephem-3.7.6.0.tar.gz\n",
      "Requirement already satisfied: six in c:\\users\\acer\\anaconda\\lib\\site-packages (from holidays>=0.9.5->fbprophet) (1.12.0)\n",
      "Requirement already satisfied: setuptools in c:\\users\\acer\\anaconda\\lib\\site-packages (from kiwisolver>=1.0.1->matplotlib>=2.0.0->fbprophet) (41.0.1)\n",
      "Building wheels for collected packages: fbprophet, ephem\n",
      "  Building wheel for fbprophet (setup.py): started\n",
      "  Building wheel for fbprophet (setup.py): finished with status 'error'\n",
      "  Complete output from command C:\\Users\\Acer\\Anaconda\\python.exe -u -c \"import setuptools, tokenize;__file__='C:\\\\Users\\\\Acer\\\\AppData\\\\Local\\\\Temp\\\\pip-install-x6tojd76\\\\fbprophet\\\\setup.py';f=getattr(tokenize, 'open', open)(__file__);code=f.read().replace('\\r\\n', '\\n');f.close();exec(compile(code, __file__, 'exec'))\" bdist_wheel -d C:\\Users\\Acer\\AppData\\Local\\Temp\\pip-wheel-nws8jndj --python-tag cp37:\n",
      "  running bdist_wheel\n",
      "  running build\n",
      "  running build_py\n",
      "  creating build\n",
      "  creating build\\lib\n",
      "  creating build\\lib\\fbprophet\n",
      "  creating build\\lib\\fbprophet\\stan_model\n",
      "  INFO:pystan:COMPILING THE C++ CODE FOR MODEL anon_model_db8febf10f23d7fa27a62fbcfd7f17b2 NOW.\n",
      "  WARNING:pystan:MSVC compiler is not supported\n",
      "  error: Microsoft Visual C++ 14.0 is required. Get it with \"Microsoft Visual C++ Build Tools\": https://visualstudio.microsoft.com/downloads/\n",
      "  \n",
      "  ----------------------------------------\n",
      "  Running setup.py clean for fbprophet\n",
      "  Building wheel for ephem (setup.py): started\n",
      "  Building wheel for ephem (setup.py): finished with status 'error'\n",
      "  Complete output from command C:\\Users\\Acer\\Anaconda\\python.exe -u -c \"import setuptools, tokenize;__file__='C:\\\\Users\\\\Acer\\\\AppData\\\\Local\\\\Temp\\\\pip-install-x6tojd76\\\\ephem\\\\setup.py';f=getattr(tokenize, 'open', open)(__file__);code=f.read().replace('\\r\\n', '\\n');f.close();exec(compile(code, __file__, 'exec'))\" bdist_wheel -d C:\\Users\\Acer\\AppData\\Local\\Temp\\pip-wheel-f1eywl5o --python-tag cp37:\n",
      "  running bdist_wheel\n",
      "  running build\n",
      "  running build_py\n",
      "  creating build\n",
      "  creating build\\lib.win-amd64-3.7\n",
      "  creating build\\lib.win-amd64-3.7\\ephem\n",
      "  copying ephem\\cities.py -> build\\lib.win-amd64-3.7\\ephem\n",
      "  copying ephem\\stars.py -> build\\lib.win-amd64-3.7\\ephem\n",
      "  copying ephem\\__init__.py -> build\\lib.win-amd64-3.7\\ephem\n",
      "  creating build\\lib.win-amd64-3.7\\ephem\\tests\n",
      "  copying ephem\\tests\\test_angles.py -> build\\lib.win-amd64-3.7\\ephem\\tests\n",
      "  copying ephem\\tests\\test_bodies.py -> build\\lib.win-amd64-3.7\\ephem\\tests\n",
      "  copying ephem\\tests\\test_cities.py -> build\\lib.win-amd64-3.7\\ephem\\tests\n",
      "  copying ephem\\tests\\test_constants.py -> build\\lib.win-amd64-3.7\\ephem\\tests\n",
      "  copying ephem\\tests\\test_dates.py -> build\\lib.win-amd64-3.7\\ephem\\tests\n",
      "  copying ephem\\tests\\test_github_issues.py -> build\\lib.win-amd64-3.7\\ephem\\tests\n",
      "  copying ephem\\tests\\test_jpl.py -> build\\lib.win-amd64-3.7\\ephem\\tests\n",
      "  copying ephem\\tests\\test_launchpad_236872.py -> build\\lib.win-amd64-3.7\\ephem\\tests\n",
      "  copying ephem\\tests\\test_launchpad_244811.py -> build\\lib.win-amd64-3.7\\ephem\\tests\n",
      "  copying ephem\\tests\\test_locales.py -> build\\lib.win-amd64-3.7\\ephem\\tests\n",
      "  copying ephem\\tests\\test_observers.py -> build\\lib.win-amd64-3.7\\ephem\\tests\n",
      "  copying ephem\\tests\\test_rst.py -> build\\lib.win-amd64-3.7\\ephem\\tests\n",
      "  copying ephem\\tests\\test_satellite.py -> build\\lib.win-amd64-3.7\\ephem\\tests\n",
      "  copying ephem\\tests\\test_stars.py -> build\\lib.win-amd64-3.7\\ephem\\tests\n",
      "  copying ephem\\tests\\test_usno.py -> build\\lib.win-amd64-3.7\\ephem\\tests\n",
      "  copying ephem\\tests\\test_usno_equinoxes.py -> build\\lib.win-amd64-3.7\\ephem\\tests\n",
      "  copying ephem\\tests\\__init__.py -> build\\lib.win-amd64-3.7\\ephem\\tests\n",
      "  creating build\\lib.win-amd64-3.7\\ephem\\doc\n",
      "  copying ephem\\doc\\angle.rst -> build\\lib.win-amd64-3.7\\ephem\\doc\n",
      "  copying ephem\\doc\\catalogs.rst -> build\\lib.win-amd64-3.7\\ephem\\doc\n",
      "  copying ephem\\doc\\CHANGELOG.rst -> build\\lib.win-amd64-3.7\\ephem\\doc\n",
      "  copying ephem\\doc\\coordinates.rst -> build\\lib.win-amd64-3.7\\ephem\\doc\n",
      "  copying ephem\\doc\\date.rst -> build\\lib.win-amd64-3.7\\ephem\\doc\n",
      "  copying ephem\\doc\\examples.rst -> build\\lib.win-amd64-3.7\\ephem\\doc\n",
      "  copying ephem\\doc\\faq.rst -> build\\lib.win-amd64-3.7\\ephem\\doc\n",
      "  copying ephem\\doc\\index.rst -> build\\lib.win-amd64-3.7\\ephem\\doc\n",
      "  copying ephem\\doc\\newton.rst -> build\\lib.win-amd64-3.7\\ephem\\doc\n",
      "  copying ephem\\doc\\quick.rst -> build\\lib.win-amd64-3.7\\ephem\\doc\n",
      "  copying ephem\\doc\\radec.rst -> build\\lib.win-amd64-3.7\\ephem\\doc\n",
      "  copying ephem\\doc\\reference.rst -> build\\lib.win-amd64-3.7\\ephem\\doc\n",
      "  copying ephem\\doc\\rise-set.rst -> build\\lib.win-amd64-3.7\\ephem\\doc\n",
      "  copying ephem\\doc\\tutorial.rst -> build\\lib.win-amd64-3.7\\ephem\\doc\n",
      "  creating build\\lib.win-amd64-3.7\\ephem\\tests\\jpl\n",
      "  copying ephem\\tests\\jpl\\europa.txt -> build\\lib.win-amd64-3.7\\ephem\\tests\\jpl\n",
      "  copying ephem\\tests\\jpl\\hyperion.txt -> build\\lib.win-amd64-3.7\\ephem\\tests\\jpl\n",
      "  copying ephem\\tests\\jpl\\jupiter.txt -> build\\lib.win-amd64-3.7\\ephem\\tests\\jpl\n",
      "  copying ephem\\tests\\jpl\\mars.txt -> build\\lib.win-amd64-3.7\\ephem\\tests\\jpl\n",
      "  copying ephem\\tests\\jpl\\neptune.txt -> build\\lib.win-amd64-3.7\\ephem\\tests\\jpl\n",
      "  copying ephem\\tests\\jpl\\oberon.txt -> build\\lib.win-amd64-3.7\\ephem\\tests\\jpl\n",
      "  copying ephem\\tests\\jpl\\phobos.txt -> build\\lib.win-amd64-3.7\\ephem\\tests\\jpl\n",
      "  copying ephem\\tests\\jpl\\saturn.txt -> build\\lib.win-amd64-3.7\\ephem\\tests\\jpl\n",
      "  copying ephem\\tests\\jpl\\uranus.txt -> build\\lib.win-amd64-3.7\\ephem\\tests\\jpl\n",
      "  creating build\\lib.win-amd64-3.7\\ephem\\tests\\usno\n",
      "  copying ephem\\tests\\usno\\appgeo_deneb.txt -> build\\lib.win-amd64-3.7\\ephem\\tests\\usno\n",
      "  copying ephem\\tests\\usno\\appgeo_jupiter.txt -> build\\lib.win-amd64-3.7\\ephem\\tests\\usno\n",
      "  copying ephem\\tests\\usno\\appgeo_moon.txt -> build\\lib.win-amd64-3.7\\ephem\\tests\\usno\n",
      "  copying ephem\\tests\\usno\\appgeo_sun.txt -> build\\lib.win-amd64-3.7\\ephem\\tests\\usno\n",
      "  copying ephem\\tests\\usno\\apptopo_deneb.txt -> build\\lib.win-amd64-3.7\\ephem\\tests\\usno\n",
      "  copying ephem\\tests\\usno\\apptopo_moon.txt -> build\\lib.win-amd64-3.7\\ephem\\tests\\usno\n",
      "  copying ephem\\tests\\usno\\apptopo_sun.txt -> build\\lib.win-amd64-3.7\\ephem\\tests\\usno\n",
      "  copying ephem\\tests\\usno\\astrom_antares.txt -> build\\lib.win-amd64-3.7\\ephem\\tests\\usno\n",
      "  copying ephem\\tests\\usno\\astrom_mercury.txt -> build\\lib.win-amd64-3.7\\ephem\\tests\\usno\n",
      "  copying ephem\\tests\\usno\\astrom_neptune.txt -> build\\lib.win-amd64-3.7\\ephem\\tests\\usno\n",
      "  copying ephem\\tests\\usno\\moon_phases.txt -> build\\lib.win-amd64-3.7\\ephem\\tests\\usno\n",
      "  copying ephem\\tests\\usno\\risettran_moon.txt -> build\\lib.win-amd64-3.7\\ephem\\tests\\usno\n",
      "  copying ephem\\tests\\usno\\risettran_rigel.txt -> build\\lib.win-amd64-3.7\\ephem\\tests\\usno\n",
      "  copying ephem\\tests\\usno\\riset_moon.txt -> build\\lib.win-amd64-3.7\\ephem\\tests\\usno\n",
      "  copying ephem\\tests\\usno\\riset_sun.txt -> build\\lib.win-amd64-3.7\\ephem\\tests\\usno\n",
      "  running build_ext\n",
      "  building 'ephem._libastro' extension\n",
      "  error: Microsoft Visual C++ 14.0 is required. Get it with \"Microsoft Visual C++ Build Tools\": https://visualstudio.microsoft.com/downloads/\n",
      "  \n",
      "  ----------------------------------------\n",
      "  Running setup.py clean for ephem\n",
      "Failed to build fbprophet ephem\n",
      "Installing collected packages: ephem, convertdate, holidays, setuptools-git, fbprophet\n",
      "  Running setup.py install for ephem: started\n",
      "    Running setup.py install for ephem: finished with status 'error'\n",
      "    Complete output from command C:\\Users\\Acer\\Anaconda\\python.exe -u -c \"import setuptools, tokenize;__file__='C:\\\\Users\\\\Acer\\\\AppData\\\\Local\\\\Temp\\\\pip-install-x6tojd76\\\\ephem\\\\setup.py';f=getattr(tokenize, 'open', open)(__file__);code=f.read().replace('\\r\\n', '\\n');f.close();exec(compile(code, __file__, 'exec'))\" install --record C:\\Users\\Acer\\AppData\\Local\\Temp\\pip-record-lxayltq6\\install-record.txt --single-version-externally-managed --compile:\n",
      "    running install\n",
      "    running build\n",
      "    running build_py\n",
      "    creating build\n",
      "    creating build\\lib.win-amd64-3.7\n",
      "    creating build\\lib.win-amd64-3.7\\ephem\n",
      "    copying ephem\\cities.py -> build\\lib.win-amd64-3.7\\ephem\n",
      "    copying ephem\\stars.py -> build\\lib.win-amd64-3.7\\ephem\n",
      "    copying ephem\\__init__.py -> build\\lib.win-amd64-3.7\\ephem\n",
      "    creating build\\lib.win-amd64-3.7\\ephem\\tests\n",
      "    copying ephem\\tests\\test_angles.py -> build\\lib.win-amd64-3.7\\ephem\\tests\n",
      "    copying ephem\\tests\\test_bodies.py -> build\\lib.win-amd64-3.7\\ephem\\tests\n",
      "    copying ephem\\tests\\test_cities.py -> build\\lib.win-amd64-3.7\\ephem\\tests\n",
      "    copying ephem\\tests\\test_constants.py -> build\\lib.win-amd64-3.7\\ephem\\tests\n",
      "    copying ephem\\tests\\test_dates.py -> build\\lib.win-amd64-3.7\\ephem\\tests\n",
      "    copying ephem\\tests\\test_github_issues.py -> build\\lib.win-amd64-3.7\\ephem\\tests\n",
      "    copying ephem\\tests\\test_jpl.py -> build\\lib.win-amd64-3.7\\ephem\\tests\n",
      "    copying ephem\\tests\\test_launchpad_236872.py -> build\\lib.win-amd64-3.7\\ephem\\tests\n",
      "    copying ephem\\tests\\test_launchpad_244811.py -> build\\lib.win-amd64-3.7\\ephem\\tests\n",
      "    copying ephem\\tests\\test_locales.py -> build\\lib.win-amd64-3.7\\ephem\\tests\n",
      "    copying ephem\\tests\\test_observers.py -> build\\lib.win-amd64-3.7\\ephem\\tests\n",
      "    copying ephem\\tests\\test_rst.py -> build\\lib.win-amd64-3.7\\ephem\\tests\n",
      "    copying ephem\\tests\\test_satellite.py -> build\\lib.win-amd64-3.7\\ephem\\tests\n",
      "    copying ephem\\tests\\test_stars.py -> build\\lib.win-amd64-3.7\\ephem\\tests\n",
      "    copying ephem\\tests\\test_usno.py -> build\\lib.win-amd64-3.7\\ephem\\tests\n",
      "    copying ephem\\tests\\test_usno_equinoxes.py -> build\\lib.win-amd64-3.7\\ephem\\tests\n",
      "    copying ephem\\tests\\__init__.py -> build\\lib.win-amd64-3.7\\ephem\\tests\n",
      "    creating build\\lib.win-amd64-3.7\\ephem\\doc\n",
      "    copying ephem\\doc\\angle.rst -> build\\lib.win-amd64-3.7\\ephem\\doc\n",
      "    copying ephem\\doc\\catalogs.rst -> build\\lib.win-amd64-3.7\\ephem\\doc\n",
      "    copying ephem\\doc\\CHANGELOG.rst -> build\\lib.win-amd64-3.7\\ephem\\doc\n",
      "    copying ephem\\doc\\coordinates.rst -> build\\lib.win-amd64-3.7\\ephem\\doc\n",
      "    copying ephem\\doc\\date.rst -> build\\lib.win-amd64-3.7\\ephem\\doc\n",
      "    copying ephem\\doc\\examples.rst -> build\\lib.win-amd64-3.7\\ephem\\doc\n",
      "    copying ephem\\doc\\faq.rst -> build\\lib.win-amd64-3.7\\ephem\\doc\n",
      "    copying ephem\\doc\\index.rst -> build\\lib.win-amd64-3.7\\ephem\\doc\n",
      "    copying ephem\\doc\\newton.rst -> build\\lib.win-amd64-3.7\\ephem\\doc\n",
      "    copying ephem\\doc\\quick.rst -> build\\lib.win-amd64-3.7\\ephem\\doc\n",
      "    copying ephem\\doc\\radec.rst -> build\\lib.win-amd64-3.7\\ephem\\doc\n",
      "    copying ephem\\doc\\reference.rst -> build\\lib.win-amd64-3.7\\ephem\\doc\n",
      "    copying ephem\\doc\\rise-set.rst -> build\\lib.win-amd64-3.7\\ephem\\doc\n",
      "    copying ephem\\doc\\tutorial.rst -> build\\lib.win-amd64-3.7\\ephem\\doc\n",
      "    creating build\\lib.win-amd64-3.7\\ephem\\tests\\jpl\n",
      "    copying ephem\\tests\\jpl\\europa.txt -> build\\lib.win-amd64-3.7\\ephem\\tests\\jpl\n",
      "    copying ephem\\tests\\jpl\\hyperion.txt -> build\\lib.win-amd64-3.7\\ephem\\tests\\jpl\n",
      "    copying ephem\\tests\\jpl\\jupiter.txt -> build\\lib.win-amd64-3.7\\ephem\\tests\\jpl\n",
      "    copying ephem\\tests\\jpl\\mars.txt -> build\\lib.win-amd64-3.7\\ephem\\tests\\jpl\n",
      "    copying ephem\\tests\\jpl\\neptune.txt -> build\\lib.win-amd64-3.7\\ephem\\tests\\jpl\n",
      "    copying ephem\\tests\\jpl\\oberon.txt -> build\\lib.win-amd64-3.7\\ephem\\tests\\jpl\n",
      "    copying ephem\\tests\\jpl\\phobos.txt -> build\\lib.win-amd64-3.7\\ephem\\tests\\jpl\n",
      "    copying ephem\\tests\\jpl\\saturn.txt -> build\\lib.win-amd64-3.7\\ephem\\tests\\jpl\n",
      "    copying ephem\\tests\\jpl\\uranus.txt -> build\\lib.win-amd64-3.7\\ephem\\tests\\jpl\n",
      "    creating build\\lib.win-amd64-3.7\\ephem\\tests\\usno\n",
      "    copying ephem\\tests\\usno\\appgeo_deneb.txt -> build\\lib.win-amd64-3.7\\ephem\\tests\\usno\n",
      "    copying ephem\\tests\\usno\\appgeo_jupiter.txt -> build\\lib.win-amd64-3.7\\ephem\\tests\\usno\n",
      "    copying ephem\\tests\\usno\\appgeo_moon.txt -> build\\lib.win-amd64-3.7\\ephem\\tests\\usno\n",
      "    copying ephem\\tests\\usno\\appgeo_sun.txt -> build\\lib.win-amd64-3.7\\ephem\\tests\\usno\n",
      "    copying ephem\\tests\\usno\\apptopo_deneb.txt -> build\\lib.win-amd64-3.7\\ephem\\tests\\usno\n",
      "    copying ephem\\tests\\usno\\apptopo_moon.txt -> build\\lib.win-amd64-3.7\\ephem\\tests\\usno\n",
      "    copying ephem\\tests\\usno\\apptopo_sun.txt -> build\\lib.win-amd64-3.7\\ephem\\tests\\usno\n",
      "    copying ephem\\tests\\usno\\astrom_antares.txt -> build\\lib.win-amd64-3.7\\ephem\\tests\\usno\n",
      "    copying ephem\\tests\\usno\\astrom_mercury.txt -> build\\lib.win-amd64-3.7\\ephem\\tests\\usno\n",
      "    copying ephem\\tests\\usno\\astrom_neptune.txt -> build\\lib.win-amd64-3.7\\ephem\\tests\\usno\n",
      "    copying ephem\\tests\\usno\\moon_phases.txt -> build\\lib.win-amd64-3.7\\ephem\\tests\\usno\n",
      "    copying ephem\\tests\\usno\\risettran_moon.txt -> build\\lib.win-amd64-3.7\\ephem\\tests\\usno\n",
      "    copying ephem\\tests\\usno\\risettran_rigel.txt -> build\\lib.win-amd64-3.7\\ephem\\tests\\usno\n",
      "    copying ephem\\tests\\usno\\riset_moon.txt -> build\\lib.win-amd64-3.7\\ephem\\tests\\usno\n",
      "    copying ephem\\tests\\usno\\riset_sun.txt -> build\\lib.win-amd64-3.7\\ephem\\tests\\usno\n",
      "    running build_ext\n",
      "    building 'ephem._libastro' extension\n",
      "    error: Microsoft Visual C++ 14.0 is required. Get it with \"Microsoft Visual C++ Build Tools\": https://visualstudio.microsoft.com/downloads/\n",
      "    \n",
      "    ----------------------------------------\n"
     ]
    },
    {
     "name": "stderr",
     "output_type": "stream",
     "text": [
      "  Failed building wheel for fbprophet\n",
      "  Failed building wheel for ephem\n",
      "Command \"C:\\Users\\Acer\\Anaconda\\python.exe -u -c \"import setuptools, tokenize;__file__='C:\\\\Users\\\\Acer\\\\AppData\\\\Local\\\\Temp\\\\pip-install-x6tojd76\\\\ephem\\\\setup.py';f=getattr(tokenize, 'open', open)(__file__);code=f.read().replace('\\r\\n', '\\n');f.close();exec(compile(code, __file__, 'exec'))\" install --record C:\\Users\\Acer\\AppData\\Local\\Temp\\pip-record-lxayltq6\\install-record.txt --single-version-externally-managed --compile\" failed with error code 1 in C:\\Users\\Acer\\AppData\\Local\\Temp\\pip-install-x6tojd76\\ephem\\\n"
     ]
    }
   ],
   "source": [
    "!pip install fbprophet"
   ]
  },
  {
   "cell_type": "code",
   "execution_count": 37,
   "metadata": {},
   "outputs": [
    {
     "ename": "ModuleNotFoundError",
     "evalue": "No module named 'fbprophet'",
     "output_type": "error",
     "traceback": [
      "\u001b[1;31m---------------------------------------------------------------------------\u001b[0m",
      "\u001b[1;31mModuleNotFoundError\u001b[0m                       Traceback (most recent call last)",
      "\u001b[1;32m<ipython-input-37-9782d30c5a41>\u001b[0m in \u001b[0;36m<module>\u001b[1;34m\u001b[0m\n\u001b[1;32m----> 1\u001b[1;33m \u001b[1;32mfrom\u001b[0m \u001b[0mfbprophet\u001b[0m \u001b[1;32mimport\u001b[0m \u001b[0mProphet\u001b[0m\u001b[1;33m\u001b[0m\u001b[1;33m\u001b[0m\u001b[0m\n\u001b[0m\u001b[0;32m      2\u001b[0m \u001b[1;33m\u001b[0m\u001b[0m\n",
      "\u001b[1;31mModuleNotFoundError\u001b[0m: No module named 'fbprophet'"
     ]
    }
   ],
   "source": [
    "from fbprophet import Prophet\n",
    "\n"
   ]
  },
  {
   "cell_type": "code",
   "execution_count": 20,
   "metadata": {},
   "outputs": [],
   "source": [
    "df_prophet = pd.read_csv('Averaged_All_locs.csv')\n",
    "\n",
    "df_prophet.Timestamp = df_prophet.Timestamp.apply(lambda x: pd.Timestamp(x))\n",
    "\n",
    "df_prophet.rename(columns={'Timestamp':'ds','demand':'y'}, inplace = True)\n",
    "\n",
    "df_prophet.sort_values('ds',inplace=True)"
   ]
  },
  {
   "cell_type": "markdown",
   "metadata": {},
   "source": [
    "## Train Test Split"
   ]
  },
  {
   "cell_type": "code",
   "execution_count": 32,
   "metadata": {},
   "outputs": [],
   "source": [
    "df_train = df_prophet.iloc[:4695]\n",
    "df_test = df_prophet.iloc[4695:]"
   ]
  },
  {
   "cell_type": "code",
   "execution_count": 35,
   "metadata": {},
   "outputs": [
    {
     "data": {
      "text/html": [
       "<div>\n",
       "<style scoped>\n",
       "    .dataframe tbody tr th:only-of-type {\n",
       "        vertical-align: middle;\n",
       "    }\n",
       "\n",
       "    .dataframe tbody tr th {\n",
       "        vertical-align: top;\n",
       "    }\n",
       "\n",
       "    .dataframe thead th {\n",
       "        text-align: right;\n",
       "    }\n",
       "</style>\n",
       "<table border=\"1\" class=\"dataframe\">\n",
       "  <thead>\n",
       "    <tr style=\"text-align: right;\">\n",
       "      <th></th>\n",
       "      <th>ds</th>\n",
       "      <th>y</th>\n",
       "    </tr>\n",
       "  </thead>\n",
       "  <tbody>\n",
       "    <tr>\n",
       "      <th>0</th>\n",
       "      <td>2019-01-01 00:00:00</td>\n",
       "      <td>0.022744</td>\n",
       "    </tr>\n",
       "    <tr>\n",
       "      <th>1</th>\n",
       "      <td>2019-01-01 00:15:00</td>\n",
       "      <td>0.025120</td>\n",
       "    </tr>\n",
       "    <tr>\n",
       "      <th>2</th>\n",
       "      <td>2019-01-01 00:30:00</td>\n",
       "      <td>0.027232</td>\n",
       "    </tr>\n",
       "    <tr>\n",
       "      <th>3</th>\n",
       "      <td>2019-01-01 00:45:00</td>\n",
       "      <td>0.029258</td>\n",
       "    </tr>\n",
       "    <tr>\n",
       "      <th>4</th>\n",
       "      <td>2019-01-01 01:00:00</td>\n",
       "      <td>0.033303</td>\n",
       "    </tr>\n",
       "  </tbody>\n",
       "</table>\n",
       "</div>"
      ],
      "text/plain": [
       "                   ds         y\n",
       "0 2019-01-01 00:00:00  0.022744\n",
       "1 2019-01-01 00:15:00  0.025120\n",
       "2 2019-01-01 00:30:00  0.027232\n",
       "3 2019-01-01 00:45:00  0.029258\n",
       "4 2019-01-01 01:00:00  0.033303"
      ]
     },
     "execution_count": 35,
     "metadata": {},
     "output_type": "execute_result"
    }
   ],
   "source": [
    "df_train.head()"
   ]
  },
  {
   "cell_type": "code",
   "execution_count": 36,
   "metadata": {},
   "outputs": [
    {
     "data": {
      "text/html": [
       "<div>\n",
       "<style scoped>\n",
       "    .dataframe tbody tr th:only-of-type {\n",
       "        vertical-align: middle;\n",
       "    }\n",
       "\n",
       "    .dataframe tbody tr th {\n",
       "        vertical-align: top;\n",
       "    }\n",
       "\n",
       "    .dataframe thead th {\n",
       "        text-align: right;\n",
       "    }\n",
       "</style>\n",
       "<table border=\"1\" class=\"dataframe\">\n",
       "  <thead>\n",
       "    <tr style=\"text-align: right;\">\n",
       "      <th></th>\n",
       "      <th>ds</th>\n",
       "      <th>y</th>\n",
       "    </tr>\n",
       "  </thead>\n",
       "  <tbody>\n",
       "    <tr>\n",
       "      <th>4695</th>\n",
       "      <td>2019-02-19 00:00:00</td>\n",
       "      <td>0.066286</td>\n",
       "    </tr>\n",
       "    <tr>\n",
       "      <th>4696</th>\n",
       "      <td>2019-02-19 00:15:00</td>\n",
       "      <td>0.069983</td>\n",
       "    </tr>\n",
       "    <tr>\n",
       "      <th>4697</th>\n",
       "      <td>2019-02-19 00:30:00</td>\n",
       "      <td>0.072283</td>\n",
       "    </tr>\n",
       "    <tr>\n",
       "      <th>4698</th>\n",
       "      <td>2019-02-19 00:45:00</td>\n",
       "      <td>0.072972</td>\n",
       "    </tr>\n",
       "    <tr>\n",
       "      <th>4699</th>\n",
       "      <td>2019-02-19 01:00:00</td>\n",
       "      <td>0.074352</td>\n",
       "    </tr>\n",
       "  </tbody>\n",
       "</table>\n",
       "</div>"
      ],
      "text/plain": [
       "                      ds         y\n",
       "4695 2019-02-19 00:00:00  0.066286\n",
       "4696 2019-02-19 00:15:00  0.069983\n",
       "4697 2019-02-19 00:30:00  0.072283\n",
       "4698 2019-02-19 00:45:00  0.072972\n",
       "4699 2019-02-19 01:00:00  0.074352"
      ]
     },
     "execution_count": 36,
     "metadata": {},
     "output_type": "execute_result"
    }
   ],
   "source": [
    "df_test.head()"
   ]
  },
  {
   "cell_type": "markdown",
   "metadata": {},
   "source": [
    "## Create and Fit Model"
   ]
  },
  {
   "cell_type": "code",
   "execution_count": null,
   "metadata": {},
   "outputs": [],
   "source": [
    "m = Prophet(yearly_seasonality=False)\n",
    "m.fit(df_prophet);"
   ]
  },
  {
   "cell_type": "code",
   "execution_count": null,
   "metadata": {},
   "outputs": [],
   "source": [
    "future = m.make_future_dataframe(periods=720, freq='H')\n",
    "forecast = m.predict(future)"
   ]
  },
  {
   "cell_type": "code",
   "execution_count": null,
   "metadata": {},
   "outputs": [],
   "source": [
    "m.plot(forecast, xlabel='Date', ylabel='Number of Uber Pickups')\n",
    "plt.title('Prophet - Model fit and 1-month prediction')"
   ]
  },
  {
   "cell_type": "code",
   "execution_count": null,
   "metadata": {},
   "outputs": [],
   "source": [
    "m.plot_components(forecast)"
   ]
  },
  {
   "cell_type": "code",
   "execution_count": null,
   "metadata": {},
   "outputs": [],
   "source": [
    "pred = pd.DataFrame(forecast.yhat[-720:])\n",
    "plot_forecast(ts15_test.pickups, pred)\n",
    "rmse(ts15_test.pickups, pred)"
   ]
  }
 ],
 "metadata": {
  "kernelspec": {
   "display_name": "Python 3",
   "language": "python",
   "name": "python3"
  },
  "language_info": {
   "codemirror_mode": {
    "name": "ipython",
    "version": 3
   },
   "file_extension": ".py",
   "mimetype": "text/x-python",
   "name": "python",
   "nbconvert_exporter": "python",
   "pygments_lexer": "ipython3",
   "version": "3.7.3"
  }
 },
 "nbformat": 4,
 "nbformat_minor": 2
}
